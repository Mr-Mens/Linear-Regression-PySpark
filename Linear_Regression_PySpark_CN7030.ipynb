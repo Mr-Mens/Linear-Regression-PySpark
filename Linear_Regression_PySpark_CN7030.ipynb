{
  "cells": [
    {
      "cell_type": "markdown",
      "metadata": {
        "id": "POFRGbv6QgZp"
      },
      "source": [
        "# **Linear Regression and Regularization with Mathematical Insights: PySpark ML on Diabetes Data**"
      ]
    },
    {
      "cell_type": "markdown",
      "metadata": {
        "id": "PiN5XAUuQxUj"
      },
      "source": [
        "# **Step 1:** Import the required libraries and initialize SparkSession."
      ]
    },
    {
      "cell_type": "code",
      "execution_count": 15,
      "metadata": {
        "id": "8V-y6jQPGyKm"
      },
      "outputs": [
        {
          "data": {
            "text/html": [
              "\n",
              "            <div>\n",
              "                <p><b>SparkSession - in-memory</b></p>\n",
              "                \n",
              "        <div>\n",
              "            <p><b>SparkContext</b></p>\n",
              "\n",
              "            <p><a href=\"http://10.210.83.36:4040\">Spark UI</a></p>\n",
              "\n",
              "            <dl>\n",
              "              <dt>Version</dt>\n",
              "                <dd><code>v3.5.0</code></dd>\n",
              "              <dt>Master</dt>\n",
              "                <dd><code>local[*]</code></dd>\n",
              "              <dt>AppName</dt>\n",
              "                <dd><code>LinearRegressionExample</code></dd>\n",
              "            </dl>\n",
              "        </div>\n",
              "        \n",
              "            </div>\n",
              "        "
            ],
            "text/plain": [
              "<pyspark.sql.session.SparkSession at 0x10a818d50>"
            ]
          },
          "execution_count": 15,
          "metadata": {},
          "output_type": "execute_result"
        }
      ],
      "source": [
        "from pyspark.sql import SparkSession\n",
        "from pyspark.ml.feature import VectorAssembler, StandardScaler\n",
        "from pyspark.ml.regression import LinearRegression\n",
        "from pyspark.ml.evaluation import RegressionEvaluator\n",
        "\n",
        "# Initialize SparkSession\n",
        "spark = SparkSession.builder \\\n",
        "                    .appName(\"LinearRegressionExample\") \\\n",
        "                    .master(\"local[*]\") \\\n",
        "                    .config(\"spark.executor.memory\", \"4g\") \\\n",
        "                    .config(\"spark.driver.memory\", \"2g\") \\\n",
        "                    .config(\"spark.executor.cores\", \"2\") \\\n",
        "                    .config(\"spark.sql.inMemoryColumnarStorage.compressed\", \"true\") \\\n",
        "                    .getOrCreate()\n",
        "\n",
        "spark"
      ]
    },
    {
      "cell_type": "markdown",
      "metadata": {
        "id": "WD0CTmfUQ3Ub"
      },
      "source": [
        "# **Step 2:** Load and preprocess the data."
      ]
    },
    {
      "cell_type": "markdown",
      "metadata": {
        "id": "XRvmZc8wqVCp"
      },
      "source": [
        "# Data Description\n",
        "\n",
        "Diabetes Data: https://drive.google.com/file/d/1JgxAN-lTKXbrsaHtetOpybk4XTLRYqCF/view?usp=sharing (204 MB)\n",
        "\n",
        "We have a dataset of diabetes patients, including ten health measurement features and one variable indicating disease progression after one year.\n",
        "\n",
        "| Feature \t| Description                           \t|\n",
        "|---------\t|---------------------------------------\t|\n",
        "| age     \t| Age in years                          \t|\n",
        "| sex     \t| Sex                                   \t|\n",
        "| bmi     \t| Body Mass Index                       \t|\n",
        "| bp      \t| Average blood pressure                \t|\n",
        "| tc      \t| T-Cells (a type of white blood cells) \t|\n",
        "| ldl     \t| low-density lipoproteins              \t|\n",
        "| hdl     \t| high-density lipoproteins             \t|\n",
        "| tch     \t| thyroid stimulating hormone           \t|\n",
        "| ltg     \t| lamotrigine                           \t|\n",
        "| glu     \t| blood sugar level                     \t|"
      ]
    },
    {
      "cell_type": "code",
      "execution_count": 16,
      "metadata": {
        "id": "A5GE7B5c_Alk"
      },
      "outputs": [
        {
          "name": "stderr",
          "output_type": "stream",
          "text": [
            "                                                                                \r"
          ]
        },
        {
          "name": "stdout",
          "output_type": "stream",
          "text": [
            "+---+---+------+-----+------+------+-----+-----+----+-----+------+-----------+\n",
            "| id|age|   sex|  bmi|    bp|    tc|  ldl|  hdl| tch|  ltg|   glu|progression|\n",
            "+---+---+------+-----+------+------+-----+-----+----+-----+------+-----------+\n",
            "|  0| 22|  Male|20.33|106.25|140.89|-0.45|62.83|0.77|-0.54|130.98|      29.83|\n",
            "|  1| 41|Female|25.99|132.23|129.64|-1.11|37.26|0.81| 1.64|151.19|      46.66|\n",
            "|  2| 51|Female|32.76| 127.0|220.36|-1.69|49.56|0.41|-0.88|176.22|      59.97|\n",
            "|  3| 26|  Male|35.87| 138.4|194.19|-0.04|55.57|0.45|-1.38|125.32|      42.44|\n",
            "|  4| 42|Female| 21.5|122.33|275.79| 1.19|63.64|0.54|-0.69|184.72|      49.36|\n",
            "|  5| 47|  Male|31.62|137.18|232.35|-1.65|36.68|0.26| 1.63| 99.83|      54.15|\n",
            "|  6| 22|  Male|37.06|106.47|244.34|-0.07|34.22|0.48|-1.72| 65.41|      39.55|\n",
            "|  7| 23|  Male|26.75|129.39|177.69|-0.37|42.03|0.68| 0.82|180.71|      33.12|\n",
            "|  8| 44|Female|28.38|125.23|276.99| 0.69|55.18| 1.1|-0.52|134.71|      53.84|\n",
            "|  9| 36|  Male|36.83| 121.9|174.81|  1.1|53.55|0.25|-0.62| 88.25|      51.81|\n",
            "| 10| 56|Female| 42.8|129.62|212.24| 1.46|49.69|0.58| 0.17| 61.64|      71.56|\n",
            "| 11| 41|  Male|34.41| 120.5|232.95| 1.27|57.86|0.97| 0.15| 63.33|      54.31|\n",
            "| 12| 56|  Male|24.41|126.83|183.39| 0.19|52.15|0.64| 0.56| 50.62|      60.75|\n",
            "| 13| 39|Female|18.07|114.39|206.74| -2.3|42.51|0.37|-0.15| 83.49|      41.11|\n",
            "| 14| 48|Female|35.12|124.86|153.23|-0.18|39.01|1.01|-1.08| 79.52|      60.19|\n",
            "| 15| 52|  Male|32.41|119.55| 118.6| 0.29|42.15|0.61|-0.06| 73.18|      61.88|\n",
            "| 16| 45|Female|37.21| 122.2|115.44| 0.33|46.21|0.43| 0.38| 45.89|      58.06|\n",
            "| 17| 42|Female|24.92|132.07|215.44| 0.53|61.76| 0.7|-0.04|  86.4|      49.97|\n",
            "| 18| 45|  Male|27.23|114.42| 173.3|-0.05|35.94|0.69| 0.82|108.99|      52.23|\n",
            "| 19| 45|Female|26.14|110.95|234.69| -0.5|47.08|0.82| 1.51| 96.85|      50.64|\n",
            "+---+---+------+-----+------+------+-----+-----+----+-----+------+-----------+\n",
            "only showing top 20 rows\n",
            "\n"
          ]
        },
        {
          "name": "stderr",
          "output_type": "stream",
          "text": [
            "[Stage 50:==============>                                           (1 + 3) / 4]\r"
          ]
        },
        {
          "name": "stdout",
          "output_type": "stream",
          "text": [
            "3045570\n",
            "4\n"
          ]
        },
        {
          "name": "stderr",
          "output_type": "stream",
          "text": [
            "                                                                                \r"
          ]
        }
      ],
      "source": [
        "# Load the data from a CSV file\n",
        "df = spark.read.csv(\"/Volumes/Portia's Drive/Machine Learning on Big Data/Linear Regression Pyspark/Diabetes.csv\", header=True, inferSchema=True)\n",
        "\n",
        "# get familiar with data\n",
        "df.show()\n",
        "\n",
        "# more info\n",
        "print(df.count())\n",
        "print(df.rdd.getNumPartitions())"
      ]
    },
    {
      "cell_type": "code",
      "execution_count": 17,
      "metadata": {},
      "outputs": [
        {
          "name": "stderr",
          "output_type": "stream",
          "text": [
            "[Stage 53:===========================================>              (3 + 1) / 4]\r"
          ]
        },
        {
          "data": {
            "text/plain": [
              "4"
            ]
          },
          "execution_count": 17,
          "metadata": {},
          "output_type": "execute_result"
        }
      ],
      "source": [
        "# Repartition Data\n",
        "df = df.repartition(4)\n",
        "df.rdd.getNumPartitions()"
      ]
    },
    {
      "cell_type": "markdown",
      "metadata": {
        "id": "NOP5yeTaCj4b"
      },
      "source": [
        "# StringIndexer"
      ]
    },
    {
      "cell_type": "code",
      "execution_count": 18,
      "metadata": {
        "id": "tpfZeVqxChIk"
      },
      "outputs": [
        {
          "name": "stderr",
          "output_type": "stream",
          "text": [
            "[Stage 60:=============================>                            (2 + 2) / 4]\r"
          ]
        },
        {
          "name": "stdout",
          "output_type": "stream",
          "text": [
            "+------+---+------+-----+------+------+-----+-----+----+-----+------+-----------+------+\n",
            "|    id|age|   sex|  bmi|    bp|    tc|  ldl|  hdl| tch|  ltg|   glu|progression|gender|\n",
            "+------+---+------+-----+------+------+-----+-----+----+-----+------+-----------+------+\n",
            "|757681| 46|  Male| 37.4|112.62|156.98| 0.81| 59.1| 0.6|-1.42|  80.0|      60.81|   1.0|\n",
            "|667043| 34|Female|19.03|116.07|374.63| 0.29|55.56|0.28|-0.14|161.07|      39.95|   0.0|\n",
            "|604868| 46|Female|31.91|123.53| 216.7|-1.09|38.98|0.24| 0.44| 106.9|      54.82|   0.0|\n",
            "|378993| 32|Female|31.33|120.34|108.78| -0.4|43.18|0.34|-0.39| 92.61|      43.95|   0.0|\n",
            "|462891| 35|Female|38.46|118.59|152.69|  0.8|52.57|0.64|-0.47|151.64|      51.28|   0.0|\n",
            "|432952| 60|Female|30.65|115.52|215.23|-0.22|39.04|0.84|-0.89|123.68|      67.89|   0.0|\n",
            "|399623| 17|  Male|37.69|122.55|226.72| 1.51|43.67|0.47|  0.2| 36.07|      35.82|   1.0|\n",
            "|778844| 56|  Male|34.29| 108.8|223.87|-0.86|42.35|0.59|  0.5|113.61|      64.51|   1.0|\n",
            "|123132| 20|Female|31.62|121.62| 220.0|-0.62|42.81|0.37|-0.38|   7.0|      33.67|   0.0|\n",
            "|772473| 29|  Male|40.48|113.83|243.14|  2.6|39.87|0.94|-1.54| 84.95|      49.77|   1.0|\n",
            "+------+---+------+-----+------+------+-----+-----+----+-----+------+-----------+------+\n",
            "only showing top 10 rows\n",
            "\n"
          ]
        },
        {
          "name": "stderr",
          "output_type": "stream",
          "text": [
            "                                                                                \r"
          ]
        }
      ],
      "source": [
        "# Map a string column of labels (categorical column) to a column of label indices\n",
        "from pyspark.ml.feature import StringIndexer\n",
        "\n",
        "indexer = StringIndexer(inputCol = 'sex', outputCol = 'gender')\n",
        "\n",
        "df = indexer.fit(df).transform(df)\n",
        "\n",
        "df.show(10)"
      ]
    },
    {
      "cell_type": "markdown",
      "metadata": {
        "id": "5Awz_GCxon__"
      },
      "source": [
        "# VectorAssembler"
      ]
    },
    {
      "cell_type": "code",
      "execution_count": 19,
      "metadata": {
        "id": "_aBqMWR2jZUb"
      },
      "outputs": [
        {
          "name": "stderr",
          "output_type": "stream",
          "text": [
            "[Stage 63:=============================>                            (2 + 2) / 4]\r"
          ]
        },
        {
          "name": "stdout",
          "output_type": "stream",
          "text": [
            "+------------------------------------------------------------+-----------+\n",
            "|features                                                    |progression|\n",
            "+------------------------------------------------------------+-----------+\n",
            "|[63.0,1.0,30.26,112.29,213.69,-1.13,55.45,0.47,-0.2,108.6]  |68.79      |\n",
            "|[36.0,1.0,22.73,135.4,191.81,-1.23,47.01,0.58,-0.66,98.06]  |42.56      |\n",
            "|[54.0,0.0,29.91,123.04,198.83,-0.15,51.1,0.41,0.19,73.99]   |61.74      |\n",
            "|[29.0,1.0,31.55,120.4,216.46,0.73,33.12,0.56,0.9,98.08]     |41.58      |\n",
            "|[21.0,1.0,36.62,130.45,230.84,-0.93,59.33,0.42,-0.05,141.33]|36.53      |\n",
            "+------------------------------------------------------------+-----------+\n",
            "only showing top 5 rows\n",
            "\n"
          ]
        },
        {
          "name": "stderr",
          "output_type": "stream",
          "text": [
            "                                                                                \r"
          ]
        }
      ],
      "source": [
        "# combine features into a single vector column\n",
        "\n",
        "assembler = VectorAssembler(inputCols = [\"age\", \"gender\", \"bmi\",\"bp\",\"tc\",\"ldl\",\"hdl\",\"tch\",\"ltg\",\"glu\"],\n",
        "                            outputCol = 'features')\n",
        "data = assembler.transform(df)\n",
        "\n",
        "data = data.select('features', 'progression')\n",
        "data.show(5, truncate = False)"
      ]
    },
    {
      "cell_type": "markdown",
      "metadata": {
        "id": "-zS5vXyfWAI4"
      },
      "source": [
        "# StandardScaler"
      ]
    },
    {
      "cell_type": "code",
      "execution_count": 20,
      "metadata": {
        "id": "I5jESIhcjbju"
      },
      "outputs": [
        {
          "name": "stderr",
          "output_type": "stream",
          "text": [
            "[Stage 72:==============>                                           (1 + 3) / 4]\r"
          ]
        },
        {
          "name": "stdout",
          "output_type": "stream",
          "text": [
            "+-----------------------------------------------------------------------------------------------------------------------------------------------------------------------------------------------+-----------+\n",
            "|scaledFeatures                                                                                                                                                                                 |progression|\n",
            "+-----------------------------------------------------------------------------------------------------------------------------------------------------------------------------------------------+-----------+\n",
            "|[6.297985093610998,1.9999996870586678,4.326282213876212,11.230832430844329,4.273963837377312,-1.1288079737012333,5.545692549469529,2.351023466482048,-0.1999045248337045,2.1716766088122528]   |68.79      |\n",
            "|[3.5988486249205702,1.9999996870586678,3.2497156219896333,13.542209556828944,3.836347061852881,-1.2287024846482453,4.701587137070559,2.9012630011906126,-0.6596849319512248,1.9609079950288169]|42.56      |\n",
            "|[5.398272937380855,0.0,4.2762425980514704,12.306007857254308,3.976752444128087,-0.14984176642051772,5.110638219619349,2.0508928111864675,0.18990929859201927,1.4795796711419757]               |61.74      |\n",
            "|[2.899072503408237,1.9999996870586678,4.510713940773116,12.041964775791763,4.329365961152571,0.7292299299131862,3.3124136562386073,2.8012194494254192,0.8995703617516703,1.9613079354724285]   |41.58      |\n",
            "|[2.0993283645369996,1.9999996870586678,5.235573518577226,13.047128779086673,4.616976986382978,-0.92901895180721,5.9337410091979645,2.1009145870690644,-0.049976131208426124,2.8261791447830173]|36.53      |\n",
            "+-----------------------------------------------------------------------------------------------------------------------------------------------------------------------------------------------+-----------+\n",
            "only showing top 5 rows\n",
            "\n"
          ]
        },
        {
          "name": "stderr",
          "output_type": "stream",
          "text": [
            "                                                                                \r"
          ]
        }
      ],
      "source": [
        "scaler = StandardScaler(inputCol = 'features', outputCol = 'scaledFeatures')\n",
        "#scaler = MinMaxScaler(inputCol = 'features', outputCol = 'scaledFeatures')\n",
        "\n",
        "scaler_model = scaler.fit(data) # compute the mean & std from data and store the necessary scaling parameters.\n",
        "data = scaler_model.transform(data) # scale the features of the data using parameteres learned during fit() step\n",
        "\n",
        "data = data.select('scaledFeatures', 'progression')\n",
        "data.show(5, truncate = False)"
      ]
    },
    {
      "cell_type": "code",
      "execution_count": 23,
      "metadata": {},
      "outputs": [
        {
          "name": "stderr",
          "output_type": "stream",
          "text": [
            "[Stage 77:>                                                         (0 + 1) / 1]\r"
          ]
        },
        {
          "name": "stdout",
          "output_type": "stream",
          "text": [
            "+--------------------------------------------------------------------------------------------------------------------------------------------------------------------------------------------+-----------+\n",
            "|scaledFeatures                                                                                                                                                                              |progression|\n",
            "+--------------------------------------------------------------------------------------------------------------------------------------------------------------------------------------------+-----------+\n",
            "|[-0.5998081041534284,0.0,3.5542424268659163,12.855097447113915,3.884948924948145,-1.0688712671330265,3.618451874478044,1.8508057076560804,0.4397899546341499,2.470232149968486]             |7.16       |\n",
            "|[-0.5998081041534284,1.9999996870586678,4.828108075432905,11.903942255936343,3.848947544877579,0.109883962041713,5.928740384716928,2.1009145870690644,0.2498806560421306,1.6675516796395373]|12.84      |\n",
            "|[-0.2999040520767142,0.0,4.117545530721577,12.654064646454932,4.4813717881171815,-0.9489978539966122,5.427677811717067,2.1009145870690644,0.01999045248337045,2.3268535009336437]           |12.11      |\n",
            "|[-0.2999040520767142,0.0,5.568694389639076,10.866773030645973,2.0768796147375173,-0.03995780437880473,5.777721525389625,0.30013065529558064,0.3898138234257238,2.1820750603461603]          |17.65      |\n",
            "|[-0.2999040520767142,0.0,5.827470688618453,11.743916145959044,3.5601364736448193,-0.029968353284103542,4.199524439174491,4.101785622372935,-1.2094223752439122,2.715595612124346]           |19.86      |\n",
            "+--------------------------------------------------------------------------------------------------------------------------------------------------------------------------------------------+-----------+\n",
            "only showing top 5 rows\n",
            "\n"
          ]
        },
        {
          "name": "stderr",
          "output_type": "stream",
          "text": [
            "                                                                                \r"
          ]
        }
      ],
      "source": [
        "# split data\n",
        "train_data, test_data = data.randomSplit([0.7, 0.3], seed = 42)\n",
        "train_data.show(5, truncate = False)"
      ]
    },
    {
      "cell_type": "markdown",
      "metadata": {
        "id": "rTPHCu_7R6Zg"
      },
      "source": [
        "# **Step 3:** Apply linear regression model."
      ]
    },
    {
      "cell_type": "code",
      "execution_count": 24,
      "metadata": {
        "id": "mWs1zRdjR79w"
      },
      "outputs": [
        {
          "name": "stderr",
          "output_type": "stream",
          "text": [
            "24/02/12 15:26:47 WARN Instrumentation: [09864159] regParam is zero, which might cause numerical instability and overfitting.\n",
            "24/02/12 15:26:58 WARN InstanceBuilder: Failed to load implementation from:dev.ludovic.netlib.blas.JNIBLAS\n",
            "24/02/12 15:27:02 WARN InstanceBuilder: Failed to load implementation from:dev.ludovic.netlib.lapack.JNILAPACK\n",
            "                                                                                \r"
          ]
        }
      ],
      "source": [
        "lr = LinearRegression(labelCol = 'progression', featuresCol = 'scaledFeatures', predictionCol = 'prediction')\n",
        "\n",
        "# Fit the model to the training data\n",
        "lr_model = lr.fit(train_data) # collect Beta0, Beta1, .....---> Y = B0 + B1X1\n",
        "\n",
        "# Make prediction on the test data\n",
        "lr_predictions = lr_model.transform(test_data)"
      ]
    },
    {
      "cell_type": "code",
      "execution_count": 25,
      "metadata": {},
      "outputs": [
        {
          "name": "stderr",
          "output_type": "stream",
          "text": [
            "[Stage 87:>                                                         (0 + 1) / 1]\r"
          ]
        },
        {
          "name": "stdout",
          "output_type": "stream",
          "text": [
            "+------------------+-----------+\n",
            "|prediction        |progression|\n",
            "+------------------+-----------+\n",
            "|10.954014628277223|10.95      |\n",
            "|17.121808917376036|17.12      |\n",
            "|15.839312849491202|15.84      |\n",
            "|16.984819753800917|16.98      |\n",
            "|13.751311452180069|13.75      |\n",
            "|10.848016012805003|10.85      |\n",
            "|13.509213466333321|13.51      |\n",
            "|12.303511428644585|12.3       |\n",
            "|15.43971784345371 |15.44      |\n",
            "|17.04252065964643 |17.04      |\n",
            "+------------------+-----------+\n",
            "only showing top 10 rows\n",
            "\n"
          ]
        },
        {
          "name": "stderr",
          "output_type": "stream",
          "text": [
            "                                                                                \r"
          ]
        }
      ],
      "source": [
        "# To see the difference between the actual and predicted values\n",
        "lr_predictions.select('prediction', 'progression').show(10, truncate = False) "
      ]
    },
    {
      "cell_type": "code",
      "execution_count": 26,
      "metadata": {},
      "outputs": [
        {
          "name": "stdout",
          "output_type": "stream",
          "text": [
            "[8.50272246778761,-3.4100540228889645e-06,3.497227024571584,0.09998164650585141,-1.1817352922614147e-06,1.0010573407734684,5.161130921203039e-07,-0.019994225149417316,-0.8003852461713519,9.706798533997519e-07]\n",
            "5.9993406022967946e-05\n"
          ]
        }
      ],
      "source": [
        "# Access the coefficients and intecept of the model\n",
        "coefficients = lr_model.coefficients\n",
        "intercept = lr_model.intercept\n",
        "\n",
        "print(coefficients)\n",
        "print(intercept)\n",
        "\n",
        "# Predictor (Regressor): Progression =  2.9654446075967323e-05 + 8.502720630777699 AGE + -3.790026394372246e-06 GENDER + 5.935073073073073 BMI + 2.935073073073073 BP + -1.0000000000000002 TC + 0.0000000000000000 LDL + 0.0000000000000000 HDL + 0.0000000000000000 TCH + 0.0000000000000000 LTG + 0.0000000000000000 GLU"
      ]
    },
    {
      "cell_type": "markdown",
      "metadata": {
        "id": "OrHb2MiSR-Xl"
      },
      "source": [
        "# **Step 4:** Apply Lasso and Ridge regression models.\n",
        "For Lasso regression, you would set elasticNetParam to 1.0, indicating that you want to use L1 regularization. For Ridge regression, you would set elasticNetParam to 0.0, indicating that you want to use L2 regularization.\n"
      ]
    },
    {
      "cell_type": "code",
      "execution_count": 27,
      "metadata": {
        "id": "pdQbyetQR-qh"
      },
      "outputs": [
        {
          "name": "stderr",
          "output_type": "stream",
          "text": [
            "                                                                                \r"
          ]
        }
      ],
      "source": [
        "# Laaso\n",
        "lasso = LinearRegression(labelCol = 'progression', featuresCol = 'scaledFeatures',\n",
        "                         predictionCol = 'prediction', elasticNetParam = 1.0, regParam = 0.15) # lambda: tuning\n",
        "lasso_model = lasso.fit(train_data)\n",
        "lasso_predictions = lasso_model.transform(test_data)\n",
        "\n",
        "# Ridge\n",
        "ridge = LinearRegression(labelCol = 'progression', featuresCol = 'scaledFeatures',\n",
        "                         predictionCol = 'prediction', elasticNetParam = 0.0, regParam = 0.15) # lambda: tuning\n",
        "ridge_model = ridge.fit(train_data)\n",
        "ridge_predictions = ridge_model.transform(test_data)"
      ]
    },
    {
      "cell_type": "code",
      "execution_count": 28,
      "metadata": {},
      "outputs": [
        {
          "name": "stderr",
          "output_type": "stream",
          "text": [
            "[Stage 104:>                                                        (0 + 1) / 1]\r"
          ]
        },
        {
          "name": "stdout",
          "output_type": "stream",
          "text": [
            "+------------------+-----------+\n",
            "|prediction        |progression|\n",
            "+------------------+-----------+\n",
            "|11.72232681924195 |10.95      |\n",
            "|17.32693543093627 |17.12      |\n",
            "|16.41375395960399 |15.84      |\n",
            "|17.70243160395849 |16.98      |\n",
            "|14.751271887901591|13.75      |\n",
            "|11.490460538291451|10.85      |\n",
            "|13.984598554948107|13.51      |\n",
            "|12.825287293696569|12.3       |\n",
            "|15.872139408982882|15.44      |\n",
            "|17.560937596187987|17.04      |\n",
            "+------------------+-----------+\n",
            "only showing top 10 rows\n",
            "\n"
          ]
        },
        {
          "name": "stderr",
          "output_type": "stream",
          "text": [
            "                                                                                \r"
          ]
        }
      ],
      "source": [
        "lasso_predictions.select('prediction', 'progression').show(10, truncate = False)"
      ]
    },
    {
      "cell_type": "markdown",
      "metadata": {
        "id": "fNvWtvJzSOz7"
      },
      "source": [
        "# **Step 5:** Evaluate the models and visualize the results."
      ]
    },
    {
      "cell_type": "code",
      "execution_count": 29,
      "metadata": {
        "id": "a-sOf2F9f27i"
      },
      "outputs": [
        {
          "name": "stderr",
          "output_type": "stream",
          "text": [
            "                                                                                \r"
          ]
        }
      ],
      "source": [
        "evaluator_mse = RegressionEvaluator(labelCol = 'progression', predictionCol = 'prediction', metricName = 'mse')\n",
        "# calculate MSE\n",
        "mse1 = evaluator_mse.evaluate(lr_predictions)\n",
        "mse2 = evaluator_mse.evaluate(lasso_predictions)\n",
        "mse3 = evaluator_mse.evaluate(ridge_predictions)\n",
        "\n",
        "evaluator_rmse = RegressionEvaluator(labelCol = 'progression', predictionCol = 'prediction', metricName = 'rmse')\n",
        "# calculate RMSE\n",
        "rmse1 = evaluator_rmse.evaluate(lr_predictions)\n",
        "rmse2 = evaluator_rmse.evaluate(lasso_predictions)\n",
        "rmse3 = evaluator_rmse.evaluate(ridge_predictions)\n",
        "\n",
        "evaluator_r2 = RegressionEvaluator(labelCol = 'progression', predictionCol = 'prediction', metricName = 'r2')\n",
        "# calculate R_squared\n",
        "r2_score1 = evaluator_r2.evaluate(lr_predictions)\n",
        "r2_score2 = evaluator_r2.evaluate(lasso_predictions)\n",
        "r2_score3 = evaluator_r2.evaluate(ridge_predictions)"
      ]
    },
    {
      "cell_type": "code",
      "execution_count": 30,
      "metadata": {},
      "outputs": [
        {
          "name": "stdout",
          "output_type": "stream",
          "text": [
            "Regression - MSE:  8.337762967307309e-06 , RMSE:  0.002887518479128282 , R^2:  0.9999999030219112\n",
            "Lasso - MSE:  0.10028255574330854 , RMSE:  0.31667421073290536 , R^2:  0.9988335947389315\n",
            "Ridge - MSE:  0.02173597171965462 , RMSE:  0.14743124404160274 , R^2:  0.9997471848261114\n"
          ]
        }
      ],
      "source": [
        "# print the evaluation metrics\n",
        "print('Regression - MSE: ', mse1, ', RMSE: ', rmse1, ', R^2: ', r2_score1)\n",
        "print('Lasso - MSE: ', mse2, ', RMSE: ', rmse2, ', R^2: ', r2_score2)\n",
        "print('Ridge - MSE: ', mse3, ', RMSE: ', rmse3, ', R^2: ', r2_score3)"
      ]
    },
    {
      "cell_type": "code",
      "execution_count": 31,
      "metadata": {},
      "outputs": [
        {
          "data": {
            "image/png": "[encoded data removed]",
            "text/plain": [
              "<Figure size 640x480 with 1 Axes>"
            ]
          },
          "metadata": {},
          "output_type": "display_data"
        }
      ],
      "source": [
        "# plot\n",
        "import matplotlib.pyplot as plt\n",
        "import numpy as np\n",
        "\n",
        "mse = [mse1, mse2, mse3]\n",
        "rmse = [rmse1, rmse2, rmse3]\n",
        "r2_score = [r2_score1, r2_score2, r2_score3]\n",
        "\n",
        "positions = np.arange(len(mse))\n",
        "bar_width = 0.2\n",
        "\n",
        "plt.bar(positions - bar_width, mse, width = bar_width, label = 'MSE')\n",
        "plt.bar(positions, rmse, width = bar_width, label = 'RMSE')\n",
        "plt.bar(positions + bar_width, r2_score, width = bar_width, label = 'R2_Score')\n",
        "\n",
        "# adding labels and title\n",
        "plt.xlabel('Model')\n",
        "plt.ylabel('Scores')\n",
        "plt.title('Comparison of Regression Metrics')\n",
        "\n",
        "# adding the legend\n",
        "plt.legend()\n",
        "plt.xticks(positions, ['Regression', 'Lasso', 'Ridge'])\n",
        "plt.show()"
      ]
    }
  ],
  "metadata": {
    "colab": {
      "provenance": []
    },
    "kernelspec": {
      "display_name": "Python 3",
      "name": "python3"
    },
    "language_info": {
      "codemirror_mode": {
        "name": "ipython",
        "version": 3
      },
      "file_extension": ".py",
      "mimetype": "text/x-python",
      "name": "python",
      "nbconvert_exporter": "python",
      "pygments_lexer": "ipython3",
      "version": "3.11.5"
    }
  },
  "nbformat": 4,
  "nbformat_minor": 0
}
